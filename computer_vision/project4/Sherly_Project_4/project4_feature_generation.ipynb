{
  "nbformat": 4,
  "nbformat_minor": 0,
  "metadata": {
    "colab": {
      "name": "project4.ipynb",
      "version": "0.3.2",
      "provenance": []
    },
    "kernelspec": {
      "name": "python3",
      "display_name": "Python 3"
    },
    "accelerator": "GPU"
  },
  "cells": [
    {
      "cell_type": "code",
      "metadata": {
        "id": "8D7qxYw0WPvD",
        "colab_type": "code",
        "outputId": "cc721807-3fb7-4ee9-edae-791802ca073b",
        "colab": {
          "base_uri": "https://localhost:8080/",
          "height": 125
        }
      },
      "source": [
        "from google.colab import drive\n",
        "drive.mount('/content/gdrive')"
      ],
      "execution_count": 0,
      "outputs": [
        {
          "output_type": "stream",
          "text": [
            "Go to this URL in a browser: https://accounts.google.com/o/oauth2/auth?client_id=947318989803-6bn6qk8qdgf4n4g3pfee6491hc0brc4i.apps.googleusercontent.com&redirect_uri=urn%3Aietf%3Awg%3Aoauth%3A2.0%3Aoob&scope=email%20https%3A%2F%2Fwww.googleapis.com%2Fauth%2Fdocs.test%20https%3A%2F%2Fwww.googleapis.com%2Fauth%2Fdrive%20https%3A%2F%2Fwww.googleapis.com%2Fauth%2Fdrive.photos.readonly%20https%3A%2F%2Fwww.googleapis.com%2Fauth%2Fpeopleapi.readonly&response_type=code\n",
            "\n",
            "Enter your authorization code:\n",
            "··········\n",
            "Mounted at /content/gdrive\n"
          ],
          "name": "stdout"
        }
      ]
    },
    {
      "cell_type": "code",
      "metadata": {
        "id": "FwOmgs59WUmi",
        "colab_type": "code",
        "outputId": "23061c33-38cf-453d-d1ea-5ed055d10a3d",
        "colab": {
          "base_uri": "https://localhost:8080/",
          "height": 407
        }
      },
      "source": [
        "from keras.layers import Flatten, Input\n",
        "from keras.models import Model\n",
        "from keras.applications.vgg16 import VGG16\n",
        "import glob\n",
        "import cv2\n",
        "import os\n",
        "import numpy as np\n",
        "\n",
        "input = Input(shape=(224, 224, 3), name = 'image_input')\n",
        "# output dimension for VGG16 is a tensor of 7 x 7 x 512\n",
        "vgg_model = VGG16(weights='imagenet', include_top=False)\n",
        "\n",
        "our_feats = vgg_model(input)\n",
        "our_feats = Flatten()(our_feats)\n",
        "\n",
        "model = Model(inputs=input, outputs=our_feats)\n",
        "model.summary() # See our model\n",
        "\n",
        "chars_path = [\"L/224\", \"O/224\", \"C/224\"]\n",
        "drive_prefix = \"/content/gdrive/My Drive/uns/S2P1/computer_vision/Letters\"\n",
        "\n",
        "for char_p in chars_path:\n",
        "  path_to_images = os.path.join(drive_prefix, char_p)\n",
        "  image_list = sorted(glob.glob(path_to_images + \"/*\"))\n",
        "  print(\"Number of images for {}: {}\".format(char_p, len(image_list)))\n",
        "  X = np.empty((len(image_list), 224, 224, 3))\n",
        "  for i, image_path in enumerate(image_list):\n",
        "      image = cv2.imread(image_path)\n",
        "      image_resized = cv2.resize(image, (224, 224))\n",
        "      X[i] = image_resized\n",
        "\n",
        "  output_feats = model.predict(X) # Extract features of our images\n",
        "\n",
        "  print(len(output_feats))\n",
        "  character = char_p.split(\"/\")[0]\n",
        "  print(\"Saving features for the character: {}\".format(character))\n",
        "  with open(drive_prefix + '/letters_vgg_features.txt', 'a') as f:\n",
        "    for fea in output_feats:\n",
        "      f.write(\"{},\".format(character))\n",
        "      f.write(\",\".join(fea.astype(str)))\n",
        "      f.write(\"\\n\")"
      ],
      "execution_count": 0,
      "outputs": [
        {
          "output_type": "stream",
          "text": [
            "_________________________________________________________________\n",
            "Layer (type)                 Output Shape              Param #   \n",
            "=================================================================\n",
            "image_input (InputLayer)     (None, 224, 224, 3)       0         \n",
            "_________________________________________________________________\n",
            "vgg16 (Model)                multiple                  14714688  \n",
            "_________________________________________________________________\n",
            "flatten_11 (Flatten)         (None, 25088)             0         \n",
            "=================================================================\n",
            "Total params: 14,714,688\n",
            "Trainable params: 14,714,688\n",
            "Non-trainable params: 0\n",
            "_________________________________________________________________\n",
            "Number of images for L/224: 175\n",
            "175\n",
            "Saving features for the character: L\n",
            "Number of images for O/224: 91\n",
            "91\n",
            "Saving features for the character: O\n",
            "Number of images for C/224: 104\n",
            "104\n",
            "Saving features for the character: C\n"
          ],
          "name": "stdout"
        }
      ]
    },
    {
      "cell_type": "code",
      "metadata": {
        "id": "aLh50dagcgTg",
        "colab_type": "code",
        "colab": {}
      },
      "source": [
        ""
      ],
      "execution_count": 0,
      "outputs": []
    }
  ]
}