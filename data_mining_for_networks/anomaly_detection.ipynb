{
 "cells": [
  {
   "cell_type": "markdown",
   "metadata": {},
   "source": [
    "# Anomaly Detection with NetworkX codes"
   ]
  },
  {
   "cell_type": "code",
   "execution_count": 2,
   "metadata": {},
   "outputs": [],
   "source": [
    "import networkx as nx\n",
    "import pandas as pd\n",
    "import numpy as np\n",
    "import matplotlib.pyplot as plt\n",
    "%matplotlib inline\n",
    "\n",
    "pd.options.display.max_rows=1000\n",
    "pd.options.display.max_columns=1000"
   ]
  },
  {
   "cell_type": "markdown",
   "metadata": {},
   "source": [
    "## Labeled data"
   ]
  },
  {
   "cell_type": "code",
   "execution_count": 34,
   "metadata": {},
   "outputs": [],
   "source": [
    "data = pd.read_csv(\"annotated-trace.csv\", names=['srcIP', 'dstIP', 'proto', 'srcPort', 'dstPort', 'label'])"
   ]
  },
  {
   "cell_type": "code",
   "execution_count": 3,
   "metadata": {},
   "outputs": [
    {
     "data": {
      "text/html": [
       "<div>\n",
       "<style scoped>\n",
       "    .dataframe tbody tr th:only-of-type {\n",
       "        vertical-align: middle;\n",
       "    }\n",
       "\n",
       "    .dataframe tbody tr th {\n",
       "        vertical-align: top;\n",
       "    }\n",
       "\n",
       "    .dataframe thead th {\n",
       "        text-align: right;\n",
       "    }\n",
       "</style>\n",
       "<table border=\"1\" class=\"dataframe\">\n",
       "  <thead>\n",
       "    <tr style=\"text-align: right;\">\n",
       "      <th></th>\n",
       "      <th>srcIP</th>\n",
       "      <th>dstIP</th>\n",
       "      <th>proto</th>\n",
       "      <th>srcPort</th>\n",
       "      <th>dstPort</th>\n",
       "      <th>label</th>\n",
       "    </tr>\n",
       "  </thead>\n",
       "  <tbody>\n",
       "    <tr>\n",
       "      <th>0</th>\n",
       "      <td>214</td>\n",
       "      <td>776</td>\n",
       "      <td>17</td>\n",
       "      <td>21</td>\n",
       "      <td>79</td>\n",
       "      <td>normal</td>\n",
       "    </tr>\n",
       "    <tr>\n",
       "      <th>1</th>\n",
       "      <td>933</td>\n",
       "      <td>79</td>\n",
       "      <td>6</td>\n",
       "      <td>21</td>\n",
       "      <td>80</td>\n",
       "      <td>normal</td>\n",
       "    </tr>\n",
       "    <tr>\n",
       "      <th>2</th>\n",
       "      <td>139</td>\n",
       "      <td>243</td>\n",
       "      <td>17</td>\n",
       "      <td>53</td>\n",
       "      <td>80</td>\n",
       "      <td>normal</td>\n",
       "    </tr>\n",
       "    <tr>\n",
       "      <th>3</th>\n",
       "      <td>920</td>\n",
       "      <td>198</td>\n",
       "      <td>6</td>\n",
       "      <td>80</td>\n",
       "      <td>21</td>\n",
       "      <td>normal</td>\n",
       "    </tr>\n",
       "    <tr>\n",
       "      <th>4</th>\n",
       "      <td>100</td>\n",
       "      <td>174</td>\n",
       "      <td>17</td>\n",
       "      <td>20</td>\n",
       "      <td>21</td>\n",
       "      <td>normal</td>\n",
       "    </tr>\n",
       "  </tbody>\n",
       "</table>\n",
       "</div>"
      ],
      "text/plain": [
       "   srcIP  dstIP  proto  srcPort  dstPort   label\n",
       "0    214    776     17       21       79  normal\n",
       "1    933     79      6       21       80  normal\n",
       "2    139    243     17       53       80  normal\n",
       "3    920    198      6       80       21  normal\n",
       "4    100    174     17       20       21  normal"
      ]
     },
     "execution_count": 3,
     "metadata": {},
     "output_type": "execute_result"
    }
   ],
   "source": [
    "data.head()"
   ]
  },
  {
   "cell_type": "code",
   "execution_count": 32,
   "metadata": {
    "scrolled": false
   },
   "outputs": [],
   "source": [
    "# plot function for graph\n",
    "def plot_graph(g):\n",
    "    plt.figure(figsize=(20,12))\n",
    "    pos = nx.spring_layout(g)\n",
    "    nx.draw_networkx_nodes(g, pos, node_color=\"plum\", node_size = 500)\n",
    "    nx.draw_networkx_labels(g, pos)\n",
    "    nx.draw_networkx_edges(g, pos, edgelist=g.edges, arrows=True)\n",
    "    plt.axis('off')\n",
    "\n",
    "    plt.show()"
   ]
  },
  {
   "cell_type": "code",
   "execution_count": 43,
   "metadata": {},
   "outputs": [],
   "source": [
    "# formatting the data so that the nodes are unique for each column\n",
    "for k in data.columns:\n",
    "    data[k] = [\"{}:{}\".format(k, v) for v in data[k].values]"
   ]
  },
  {
   "cell_type": "code",
   "execution_count": 6,
   "metadata": {},
   "outputs": [
    {
     "data": {
      "text/html": [
       "<div>\n",
       "<style scoped>\n",
       "    .dataframe tbody tr th:only-of-type {\n",
       "        vertical-align: middle;\n",
       "    }\n",
       "\n",
       "    .dataframe tbody tr th {\n",
       "        vertical-align: top;\n",
       "    }\n",
       "\n",
       "    .dataframe thead th {\n",
       "        text-align: right;\n",
       "    }\n",
       "</style>\n",
       "<table border=\"1\" class=\"dataframe\">\n",
       "  <thead>\n",
       "    <tr style=\"text-align: right;\">\n",
       "      <th></th>\n",
       "      <th>srcIP</th>\n",
       "      <th>proto</th>\n",
       "      <th>dstIP</th>\n",
       "      <th>srcPort</th>\n",
       "      <th>dstPort</th>\n",
       "      <th>dstIP</th>\n",
       "    </tr>\n",
       "  </thead>\n",
       "  <tbody>\n",
       "    <tr>\n",
       "      <th>0</th>\n",
       "      <td>srcIP:214</td>\n",
       "      <td>proto:17</td>\n",
       "      <td>dstIP:776</td>\n",
       "      <td>srcPort:21</td>\n",
       "      <td>dstPort:79</td>\n",
       "      <td>dstIP:776</td>\n",
       "    </tr>\n",
       "    <tr>\n",
       "      <th>1</th>\n",
       "      <td>srcIP:933</td>\n",
       "      <td>proto:6</td>\n",
       "      <td>dstIP:79</td>\n",
       "      <td>srcPort:21</td>\n",
       "      <td>dstPort:80</td>\n",
       "      <td>dstIP:79</td>\n",
       "    </tr>\n",
       "    <tr>\n",
       "      <th>2</th>\n",
       "      <td>srcIP:139</td>\n",
       "      <td>proto:17</td>\n",
       "      <td>dstIP:243</td>\n",
       "      <td>srcPort:53</td>\n",
       "      <td>dstPort:80</td>\n",
       "      <td>dstIP:243</td>\n",
       "    </tr>\n",
       "    <tr>\n",
       "      <th>3</th>\n",
       "      <td>srcIP:920</td>\n",
       "      <td>proto:6</td>\n",
       "      <td>dstIP:198</td>\n",
       "      <td>srcPort:80</td>\n",
       "      <td>dstPort:21</td>\n",
       "      <td>dstIP:198</td>\n",
       "    </tr>\n",
       "    <tr>\n",
       "      <th>4</th>\n",
       "      <td>srcIP:100</td>\n",
       "      <td>proto:17</td>\n",
       "      <td>dstIP:174</td>\n",
       "      <td>srcPort:20</td>\n",
       "      <td>dstPort:21</td>\n",
       "      <td>dstIP:174</td>\n",
       "    </tr>\n",
       "  </tbody>\n",
       "</table>\n",
       "</div>"
      ],
      "text/plain": [
       "       srcIP     proto      dstIP     srcPort     dstPort      dstIP\n",
       "0  srcIP:214  proto:17  dstIP:776  srcPort:21  dstPort:79  dstIP:776\n",
       "1  srcIP:933   proto:6   dstIP:79  srcPort:21  dstPort:80   dstIP:79\n",
       "2  srcIP:139  proto:17  dstIP:243  srcPort:53  dstPort:80  dstIP:243\n",
       "3  srcIP:920   proto:6  dstIP:198  srcPort:80  dstPort:21  dstIP:198\n",
       "4  srcIP:100  proto:17  dstIP:174  srcPort:20  dstPort:21  dstIP:174"
      ]
     },
     "execution_count": 6,
     "metadata": {},
     "output_type": "execute_result"
    }
   ],
   "source": [
    "# The order for the graphlets generation\n",
    "data[['srcIP', 'proto', 'dstIP', 'srcPort', 'dstPort', 'dstIP']].head()"
   ]
  },
  {
   "cell_type": "code",
   "execution_count": 30,
   "metadata": {},
   "outputs": [],
   "source": [
    "def generate_activity_graphlet(df):\n",
    "    \"\"\"\n",
    "    Given a dataframe representing the data for a graphlet, generate the \n",
    "    activity graphlet\n",
    "    \"\"\"\n",
    "    g = nx.DiGraph(directed=True)\n",
    "    cols = ['srcIP', 'proto', 'dstIP', 'srcPort', 'dstPort', 'dstIP']\n",
    "    for r in df[cols].values:\n",
    "        for i in range(0, len(cols)-1):\n",
    "            g.add_edge(r[i], r[i+1])\n",
    "            \n",
    "    return g\n",
    "\n",
    "def get_neighbouring_node(g, node, orig_node, prof_g, dstNode=None, _type=\"in\", depth=6):\n",
    "#     print(\"node\", node, orig_node, dstNode, _type)\n",
    "    \"\"\"\n",
    "    Given the graph, find all the adjacent nodes in the path based on outgoing or incoming edges\n",
    "    \"\"\"\n",
    "    if node == orig_node or (orig_node is not None and not orig_node.startswith('dstIP') \\\n",
    "                             and dstNode is not None) or depth == 0:\n",
    "        return prof_g\n",
    "\n",
    "    if not orig_node:\n",
    "        orig_node = node\n",
    "\n",
    "    nodes = g.in_edges(node) if _type == \"in\" else g.out_edges(node)\n",
    "    for n in nodes:\n",
    "        _next = n[0] if _type == \"in\" else n[1]\n",
    "        if _next.startswith('dstIP'):\n",
    "            dstNode = _next\n",
    "\n",
    "        prof_g.add_edge(n[0], n[1])\n",
    "        print(\"depth\", depth)\n",
    "        get_neighbouring_node(g, _next, orig_node, prof_g, dstNode, _type, depth-1)\n",
    "    \n",
    "    return prof_g\n",
    "\n",
    "def generate_profile_graphlet(df):\n",
    "    # generate activity graphlet\n",
    "    g = nx.DiGraph(directed=True)\n",
    "    cols = ['srcIP', 'proto', 'dstIP', 'srcPort', 'dstPort', 'dstIP']\n",
    "    for r in df[cols].values:\n",
    "        for i in range(0, len(cols)-1):\n",
    "            g.add_edge(r[i], r[i+1])\n",
    "            \n",
    "    # get significant nodes\n",
    "    sig_nodes = []\n",
    "    indegs = g.in_degree()\n",
    "    outdegs = g.out_degree()\n",
    "    for node in g.nodes():\n",
    "        if indegs[node] > 1 or outdegs[node] > 1:\n",
    "            sig_nodes.append(node)\n",
    "\n",
    "    if len(sig_nodes) == 0:\n",
    "        return None\n",
    "\n",
    "    prof_g = nx.DiGraph(directed=True)\n",
    "\n",
    "    # For each significant node, apply the profiling\n",
    "    # to generate profile graphlet\n",
    "    for node in sig_nodes:\n",
    "        n_len = []\n",
    "        lens = []\n",
    "        for n in g.neighbors(node):\n",
    "            num_neighbors = len(list(g.neighbors(n)))\n",
    "            n_len.append([n, num_neighbors])\n",
    "            lens.append(num_neighbors)\n",
    "        lens.sort(reverse=True)\n",
    "        _max_len = lens[0]\n",
    "\n",
    "        n_len_cpy = n_len.copy()\n",
    "        for idx, n in enumerate(n_len_cpy):\n",
    "            if n[1] != _max_len:\n",
    "                n_len.remove(n)\n",
    "\n",
    "        prof_g = get_neighbouring_node(g, node, None, prof_g, None, \"in\")\n",
    "        for n in n_len:\n",
    "            prof_g = get_neighbouring_node(g, n[0], None, prof_g, None, \"out\")\n",
    "        \n",
    "    return prof_g\n",
    "\n",
    "def generate_graphlets(data):\n",
    "    subdf = []\n",
    "\n",
    "    if 'label' in data.columns:\n",
    "        # break down the large df into smaller df for each graphlet\n",
    "        # based on the srcIP and label\n",
    "        for ip in np.unique(data.srcIP.values):\n",
    "            for lbl in np.unique(data.label.values):\n",
    "                d = data[(data.srcIP == ip) & (data.label == lbl)]\n",
    "                if d.shape[0] > 0:\n",
    "                    subdf.append(d)\n",
    "\n",
    "        graphlets = []\n",
    "        for df in subdf:\n",
    "            profile_graphlet = generate_profile_graphlet(df)\n",
    "            label = 1 if df['label'].values[0] == 'label:anomaly' else 0\n",
    "            if profile_graphlet is not None:\n",
    "                graphlets.append([profile_graphlet, label])\n",
    "    else:\n",
    "        for ip in np.unique(data.srcIP.values):\n",
    "            d = data[(data.srcIP == ip)]\n",
    "            if d.shape[0] > 0:\n",
    "                subdf.append(d)\n",
    "\n",
    "        graphlets = []\n",
    "        for df in subdf:\n",
    "            profile_graphlet = generate_profile_graphlet(df)\n",
    "            label = 0\n",
    "            if profile_graphlet is not None:\n",
    "                graphlets.append([profile_graphlet, label])\n",
    "\n",
    "    return graphlets"
   ]
  },
  {
   "cell_type": "code",
   "execution_count": 42,
   "metadata": {},
   "outputs": [
    {
     "data": {
      "text/plain": [
       "(10070, 6)"
      ]
     },
     "execution_count": 42,
     "metadata": {},
     "output_type": "execute_result"
    }
   ],
   "source": [
    "data.shape"
   ]
  },
  {
   "cell_type": "code",
   "execution_count": null,
   "metadata": {
    "scrolled": true
   },
   "outputs": [],
   "source": [
    "data[data.label == 'label:anomaly'].sort_values(\"srcIP\")"
   ]
  },
  {
   "cell_type": "code",
   "execution_count": 44,
   "metadata": {},
   "outputs": [],
   "source": [
    "negative = data[data.label == 'label:anomaly']"
   ]
  },
  {
   "cell_type": "code",
   "execution_count": 45,
   "metadata": {},
   "outputs": [],
   "source": [
    "positive = data[data.label == 'label:normal'].sample(negative.shape[0])"
   ]
  },
  {
   "cell_type": "code",
   "execution_count": 46,
   "metadata": {},
   "outputs": [],
   "source": [
    "df = pd.concat([negative, positive], axis=0)"
   ]
  },
  {
   "cell_type": "code",
   "execution_count": 47,
   "metadata": {},
   "outputs": [
    {
     "data": {
      "text/plain": [
       "(140, 6)"
      ]
     },
     "execution_count": 47,
     "metadata": {},
     "output_type": "execute_result"
    }
   ],
   "source": [
    "df.shape"
   ]
  },
  {
   "cell_type": "code",
   "execution_count": 48,
   "metadata": {},
   "outputs": [],
   "source": [
    "graphlets = generate_graphlets(df)"
   ]
  },
  {
   "cell_type": "code",
   "execution_count": 49,
   "metadata": {},
   "outputs": [
    {
     "data": {
      "text/plain": [
       "125"
      ]
     },
     "execution_count": 49,
     "metadata": {},
     "output_type": "execute_result"
    }
   ],
   "source": [
    "len(graphlets)"
   ]
  },
  {
   "cell_type": "code",
   "execution_count": 50,
   "metadata": {},
   "outputs": [
    {
     "data": {
      "text/html": [
       "<div>\n",
       "<style scoped>\n",
       "    .dataframe tbody tr th:only-of-type {\n",
       "        vertical-align: middle;\n",
       "    }\n",
       "\n",
       "    .dataframe tbody tr th {\n",
       "        vertical-align: top;\n",
       "    }\n",
       "\n",
       "    .dataframe thead th {\n",
       "        text-align: right;\n",
       "    }\n",
       "</style>\n",
       "<table border=\"1\" class=\"dataframe\">\n",
       "  <thead>\n",
       "    <tr style=\"text-align: right;\">\n",
       "      <th></th>\n",
       "      <th>srcIP</th>\n",
       "      <th>dstIP</th>\n",
       "      <th>proto</th>\n",
       "      <th>srcPort</th>\n",
       "      <th>dstPort</th>\n",
       "      <th>label</th>\n",
       "    </tr>\n",
       "  </thead>\n",
       "  <tbody>\n",
       "    <tr>\n",
       "      <th>14</th>\n",
       "      <td>srcIP:812</td>\n",
       "      <td>dstIP:499</td>\n",
       "      <td>proto:6</td>\n",
       "      <td>srcPort:53</td>\n",
       "      <td>dstPort:14</td>\n",
       "      <td>label:anomaly</td>\n",
       "    </tr>\n",
       "    <tr>\n",
       "      <th>195</th>\n",
       "      <td>srcIP:796</td>\n",
       "      <td>dstIP:499</td>\n",
       "      <td>proto:6</td>\n",
       "      <td>srcPort:68</td>\n",
       "      <td>dstPort:22</td>\n",
       "      <td>label:anomaly</td>\n",
       "    </tr>\n",
       "    <tr>\n",
       "      <th>249</th>\n",
       "      <td>srcIP:325</td>\n",
       "      <td>dstIP:661</td>\n",
       "      <td>proto:17</td>\n",
       "      <td>srcPort:22</td>\n",
       "      <td>dstPort:20</td>\n",
       "      <td>label:anomaly</td>\n",
       "    </tr>\n",
       "    <tr>\n",
       "      <th>385</th>\n",
       "      <td>srcIP:1709</td>\n",
       "      <td>dstIP:791</td>\n",
       "      <td>proto:6</td>\n",
       "      <td>srcPort:21</td>\n",
       "      <td>dstPort:80</td>\n",
       "      <td>label:anomaly</td>\n",
       "    </tr>\n",
       "    <tr>\n",
       "      <th>666</th>\n",
       "      <td>srcIP:119</td>\n",
       "      <td>dstIP:661</td>\n",
       "      <td>proto:17</td>\n",
       "      <td>srcPort:22</td>\n",
       "      <td>dstPort:20</td>\n",
       "      <td>label:anomaly</td>\n",
       "    </tr>\n",
       "  </tbody>\n",
       "</table>\n",
       "</div>"
      ],
      "text/plain": [
       "          srcIP      dstIP     proto     srcPort     dstPort          label\n",
       "14    srcIP:812  dstIP:499   proto:6  srcPort:53  dstPort:14  label:anomaly\n",
       "195   srcIP:796  dstIP:499   proto:6  srcPort:68  dstPort:22  label:anomaly\n",
       "249   srcIP:325  dstIP:661  proto:17  srcPort:22  dstPort:20  label:anomaly\n",
       "385  srcIP:1709  dstIP:791   proto:6  srcPort:21  dstPort:80  label:anomaly\n",
       "666   srcIP:119  dstIP:661  proto:17  srcPort:22  dstPort:20  label:anomaly"
      ]
     },
     "execution_count": 50,
     "metadata": {},
     "output_type": "execute_result"
    }
   ],
   "source": [
    "df.head()"
   ]
  },
  {
   "cell_type": "code",
   "execution_count": 37,
   "metadata": {},
   "outputs": [],
   "source": [
    "keys = np.unique(data[['srcIP', 'dstIP', 'proto', 'srcPort', 'dstPort']].values.flatten())\n",
    "\n",
    "def generate_adjacency_matrix(g, keys):\n",
    "    \"\"\"\n",
    "    Generate the adjacency matrix for a graph G with all keys\n",
    "    \"\"\"\n",
    "    all_paths = [p for x in g.nodes() for target in g.nodes() \\\n",
    "                 for p in nx.all_simple_paths(g, x, target, 1)]\n",
    "\n",
    "    # Generate DF for all the paths to generate the adjacency matrix\n",
    "    df = pd.DataFrame.from_records(all_paths, columns=['node1', 'node2'])\n",
    "    df['value'] = 1\n",
    "    df = df.groupby(['node1', 'node2']).count().reset_index()\n",
    "\n",
    "    # Existence will be counted as 1 instead of multiple counts\n",
    "    df['value'] = df['value'].apply(lambda x: 1 if x > 0 else 0)\n",
    "    \n",
    "    # Generate the matrix with df.pivot()\n",
    "    mat = df.pivot(index='node1', columns='node2', values='value'\n",
    "                        ).reindex(columns=keys, index=keys).fillna(0)\n",
    "    \n",
    "    return mat"
   ]
  },
  {
   "cell_type": "code",
   "execution_count": 38,
   "metadata": {},
   "outputs": [],
   "source": [
    "count = 0\n",
    "def random_walk(g, L, keys):\n",
    "    global count\n",
    "    print(count)\n",
    "    a0 = np.identity(len(keys))\n",
    "    a1 = generate_adjacency_matrix(g, keys)\n",
    "    \n",
    "    rw_mat = a0 + a1 \n",
    "    for i in range(1, L):\n",
    "        mat = a1\n",
    "        for j in range(i):\n",
    "            mat = np.dot(mat, a1)\n",
    "        rw_mat += mat\n",
    "    count+=1\n",
    "    return rw_mat.values.flatten().tolist()"
   ]
  },
  {
   "cell_type": "code",
   "execution_count": null,
   "metadata": {
    "scrolled": true
   },
   "outputs": [],
   "source": [
    "count = 0\n",
    "features = [random_walk(g, 4, keys) for g, l in graphlets]"
   ]
  },
  {
   "cell_type": "code",
   "execution_count": 56,
   "metadata": {},
   "outputs": [],
   "source": [
    "y = [g[1] for g in graphlets]"
   ]
  },
  {
   "cell_type": "code",
   "execution_count": 57,
   "metadata": {},
   "outputs": [],
   "source": [
    "from sklearn.model_selection import train_test_split\n",
    "\n",
    "X_train, X_test, y_train, y_test = train_test_split(features, y, test_size=0.20, random_state=42)"
   ]
  },
  {
   "cell_type": "code",
   "execution_count": 58,
   "metadata": {},
   "outputs": [],
   "source": [
    "from sklearn import svm\n",
    "\n",
    "clf = svm.SVC(kernel='linear', verbose=True)"
   ]
  },
  {
   "cell_type": "code",
   "execution_count": 59,
   "metadata": {},
   "outputs": [
    {
     "name": "stdout",
     "output_type": "stream",
     "text": [
      "[LibSVM][LibSVM][LibSVM][LibSVM][LibSVM][LibSVM][LibSVM][LibSVM]3min 55s ± 12.1 s per loop (mean ± std. dev. of 7 runs, 1 loop each)\n"
     ]
    }
   ],
   "source": [
    "%timeit clf.fit(X_train, y_train) "
   ]
  },
  {
   "cell_type": "code",
   "execution_count": 60,
   "metadata": {},
   "outputs": [
    {
     "data": {
      "text/plain": [
       "['svmlinear2.joblib']"
      ]
     },
     "execution_count": 60,
     "metadata": {},
     "output_type": "execute_result"
    }
   ],
   "source": [
    "from joblib import dump, load\n",
    "\n",
    "dump(clf, 'svmlinear2.joblib') "
   ]
  },
  {
   "cell_type": "code",
   "execution_count": 61,
   "metadata": {},
   "outputs": [],
   "source": [
    "clf_rbf = svm.SVC() # default  rbf"
   ]
  },
  {
   "cell_type": "code",
   "execution_count": 62,
   "metadata": {},
   "outputs": [
    {
     "name": "stderr",
     "output_type": "stream",
     "text": [
      "/Users/sherly/anaconda/lib/python3.6/site-packages/sklearn/svm/base.py:196: FutureWarning: The default value of gamma will change from 'auto' to 'scale' in version 0.22 to account better for unscaled features. Set gamma explicitly to 'auto' or 'scale' to avoid this warning.\n",
      "  \"avoid this warning.\", FutureWarning)\n",
      "/Users/sherly/anaconda/lib/python3.6/site-packages/sklearn/svm/base.py:196: FutureWarning: The default value of gamma will change from 'auto' to 'scale' in version 0.22 to account better for unscaled features. Set gamma explicitly to 'auto' or 'scale' to avoid this warning.\n",
      "  \"avoid this warning.\", FutureWarning)\n",
      "/Users/sherly/anaconda/lib/python3.6/site-packages/sklearn/svm/base.py:196: FutureWarning: The default value of gamma will change from 'auto' to 'scale' in version 0.22 to account better for unscaled features. Set gamma explicitly to 'auto' or 'scale' to avoid this warning.\n",
      "  \"avoid this warning.\", FutureWarning)\n",
      "/Users/sherly/anaconda/lib/python3.6/site-packages/sklearn/svm/base.py:196: FutureWarning: The default value of gamma will change from 'auto' to 'scale' in version 0.22 to account better for unscaled features. Set gamma explicitly to 'auto' or 'scale' to avoid this warning.\n",
      "  \"avoid this warning.\", FutureWarning)\n",
      "/Users/sherly/anaconda/lib/python3.6/site-packages/sklearn/svm/base.py:196: FutureWarning: The default value of gamma will change from 'auto' to 'scale' in version 0.22 to account better for unscaled features. Set gamma explicitly to 'auto' or 'scale' to avoid this warning.\n",
      "  \"avoid this warning.\", FutureWarning)\n",
      "/Users/sherly/anaconda/lib/python3.6/site-packages/sklearn/svm/base.py:196: FutureWarning: The default value of gamma will change from 'auto' to 'scale' in version 0.22 to account better for unscaled features. Set gamma explicitly to 'auto' or 'scale' to avoid this warning.\n",
      "  \"avoid this warning.\", FutureWarning)\n",
      "/Users/sherly/anaconda/lib/python3.6/site-packages/sklearn/svm/base.py:196: FutureWarning: The default value of gamma will change from 'auto' to 'scale' in version 0.22 to account better for unscaled features. Set gamma explicitly to 'auto' or 'scale' to avoid this warning.\n",
      "  \"avoid this warning.\", FutureWarning)\n",
      "/Users/sherly/anaconda/lib/python3.6/site-packages/sklearn/svm/base.py:196: FutureWarning: The default value of gamma will change from 'auto' to 'scale' in version 0.22 to account better for unscaled features. Set gamma explicitly to 'auto' or 'scale' to avoid this warning.\n",
      "  \"avoid this warning.\", FutureWarning)\n"
     ]
    },
    {
     "name": "stdout",
     "output_type": "stream",
     "text": [
      "4min 29s ± 18.9 s per loop (mean ± std. dev. of 7 runs, 1 loop each)\n"
     ]
    }
   ],
   "source": [
    "%timeit clf_rbf.fit(X_train, y_train) "
   ]
  },
  {
   "cell_type": "code",
   "execution_count": 63,
   "metadata": {},
   "outputs": [
    {
     "data": {
      "text/plain": [
       "['svmrbf2.joblib']"
      ]
     },
     "execution_count": 63,
     "metadata": {},
     "output_type": "execute_result"
    }
   ],
   "source": [
    "dump(clf_rbf, 'svmrbf2.joblib') "
   ]
  },
  {
   "cell_type": "code",
   "execution_count": 89,
   "metadata": {},
   "outputs": [],
   "source": [
    "from sklearn.metrics import classification_report, confusion_matrix"
   ]
  },
  {
   "cell_type": "code",
   "execution_count": 71,
   "metadata": {},
   "outputs": [
    {
     "name": "stdout",
     "output_type": "stream",
     "text": [
      "              precision    recall  f1-score   support\n",
      "\n",
      "           0       0.91      1.00      0.95        10\n",
      "           1       1.00      0.93      0.97        15\n",
      "\n",
      "   micro avg       0.96      0.96      0.96        25\n",
      "   macro avg       0.95      0.97      0.96        25\n",
      "weighted avg       0.96      0.96      0.96        25\n",
      "\n"
     ]
    }
   ],
   "source": [
    "print(classification_report(y_test, clf.predict(X_test)))"
   ]
  },
  {
   "cell_type": "code",
   "execution_count": 90,
   "metadata": {},
   "outputs": [
    {
     "data": {
      "text/plain": [
       "array([[10,  0],\n",
       "       [ 1, 14]])"
      ]
     },
     "execution_count": 90,
     "metadata": {},
     "output_type": "execute_result"
    }
   ],
   "source": [
    "confusion_matrix(y_test, clf.predict(X_test))"
   ]
  },
  {
   "cell_type": "code",
   "execution_count": 72,
   "metadata": {},
   "outputs": [
    {
     "name": "stdout",
     "output_type": "stream",
     "text": [
      "              precision    recall  f1-score   support\n",
      "\n",
      "           0       0.40      1.00      0.57        10\n",
      "           1       0.00      0.00      0.00        15\n",
      "\n",
      "   micro avg       0.40      0.40      0.40        25\n",
      "   macro avg       0.20      0.50      0.29        25\n",
      "weighted avg       0.16      0.40      0.23        25\n",
      "\n"
     ]
    },
    {
     "name": "stderr",
     "output_type": "stream",
     "text": [
      "/Users/sherly/anaconda/lib/python3.6/site-packages/sklearn/metrics/classification.py:1143: UndefinedMetricWarning: Precision and F-score are ill-defined and being set to 0.0 in labels with no predicted samples.\n",
      "  'precision', 'predicted', average, warn_for)\n"
     ]
    }
   ],
   "source": [
    "print(classification_report(y_test, clf_rbf.predict(X_test)))"
   ]
  },
  {
   "cell_type": "code",
   "execution_count": 92,
   "metadata": {},
   "outputs": [
    {
     "data": {
      "text/plain": [
       "array([[10,  0],\n",
       "       [15,  0]])"
      ]
     },
     "execution_count": 92,
     "metadata": {},
     "output_type": "execute_result"
    }
   ],
   "source": [
    "confusion_matrix(y_test, clf_rbf.predict(X_test))"
   ]
  },
  {
   "cell_type": "markdown",
   "metadata": {},
   "source": [
    "## Unlabeled data "
   ]
  },
  {
   "cell_type": "code",
   "execution_count": 7,
   "metadata": {},
   "outputs": [],
   "source": [
    "unlabeled_data = pd.read_csv(\"not-annotated-trace.csv\", names=['srcIP', 'dstIP', 'proto', 'srcPort', 'dstPort'])"
   ]
  },
  {
   "cell_type": "code",
   "execution_count": 8,
   "metadata": {},
   "outputs": [
    {
     "data": {
      "text/plain": [
       "(10070, 5)"
      ]
     },
     "execution_count": 8,
     "metadata": {},
     "output_type": "execute_result"
    }
   ],
   "source": [
    "unlabeled_data.shape"
   ]
  },
  {
   "cell_type": "code",
   "execution_count": 9,
   "metadata": {},
   "outputs": [],
   "source": [
    "for k in unlabeled_data.columns:\n",
    "    unlabeled_data[k] = [\"{}:{}\".format(k, v) for v in unlabeled_data[k].values]"
   ]
  },
  {
   "cell_type": "code",
   "execution_count": 10,
   "metadata": {},
   "outputs": [],
   "source": [
    "ips = np.random.choice(unlabeled_data.srcIP.values, 5)\n",
    "subset_data = unlabeled_data[unlabeled_data.srcIP.isin(ips)]"
   ]
  },
  {
   "cell_type": "code",
   "execution_count": 11,
   "metadata": {},
   "outputs": [
    {
     "data": {
      "text/html": [
       "<div>\n",
       "<style scoped>\n",
       "    .dataframe tbody tr th:only-of-type {\n",
       "        vertical-align: middle;\n",
       "    }\n",
       "\n",
       "    .dataframe tbody tr th {\n",
       "        vertical-align: top;\n",
       "    }\n",
       "\n",
       "    .dataframe thead th {\n",
       "        text-align: right;\n",
       "    }\n",
       "</style>\n",
       "<table border=\"1\" class=\"dataframe\">\n",
       "  <thead>\n",
       "    <tr style=\"text-align: right;\">\n",
       "      <th></th>\n",
       "      <th>srcIP</th>\n",
       "      <th>dstIP</th>\n",
       "      <th>proto</th>\n",
       "      <th>srcPort</th>\n",
       "      <th>dstPort</th>\n",
       "    </tr>\n",
       "  </thead>\n",
       "  <tbody>\n",
       "    <tr>\n",
       "      <th>0</th>\n",
       "      <td>srcIP:881</td>\n",
       "      <td>dstIP:296</td>\n",
       "      <td>proto:6</td>\n",
       "      <td>srcPort:80</td>\n",
       "      <td>dstPort:25</td>\n",
       "    </tr>\n",
       "    <tr>\n",
       "      <th>1</th>\n",
       "      <td>srcIP:799</td>\n",
       "      <td>dstIP:20</td>\n",
       "      <td>proto:6</td>\n",
       "      <td>srcPort:80</td>\n",
       "      <td>dstPort:22</td>\n",
       "    </tr>\n",
       "    <tr>\n",
       "      <th>2</th>\n",
       "      <td>srcIP:897</td>\n",
       "      <td>dstIP:790</td>\n",
       "      <td>proto:17</td>\n",
       "      <td>srcPort:80</td>\n",
       "      <td>dstPort:21</td>\n",
       "    </tr>\n",
       "    <tr>\n",
       "      <th>3</th>\n",
       "      <td>srcIP:41</td>\n",
       "      <td>dstIP:994</td>\n",
       "      <td>proto:17</td>\n",
       "      <td>srcPort:23</td>\n",
       "      <td>dstPort:53</td>\n",
       "    </tr>\n",
       "    <tr>\n",
       "      <th>4</th>\n",
       "      <td>srcIP:361</td>\n",
       "      <td>dstIP:535</td>\n",
       "      <td>proto:6</td>\n",
       "      <td>srcPort:21</td>\n",
       "      <td>dstPort:22</td>\n",
       "    </tr>\n",
       "  </tbody>\n",
       "</table>\n",
       "</div>"
      ],
      "text/plain": [
       "       srcIP      dstIP     proto     srcPort     dstPort\n",
       "0  srcIP:881  dstIP:296   proto:6  srcPort:80  dstPort:25\n",
       "1  srcIP:799   dstIP:20   proto:6  srcPort:80  dstPort:22\n",
       "2  srcIP:897  dstIP:790  proto:17  srcPort:80  dstPort:21\n",
       "3   srcIP:41  dstIP:994  proto:17  srcPort:23  dstPort:53\n",
       "4  srcIP:361  dstIP:535   proto:6  srcPort:21  dstPort:22"
      ]
     },
     "execution_count": 11,
     "metadata": {},
     "output_type": "execute_result"
    }
   ],
   "source": [
    "unlabeled_data.head()"
   ]
  },
  {
   "cell_type": "code",
   "execution_count": 24,
   "metadata": {},
   "outputs": [
    {
     "data": {
      "text/plain": [
       "array(['srcIP:349', 'srcIP:335', 'srcIP:522', 'srcIP:195', 'srcIP:924'],\n",
       "      dtype=object)"
      ]
     },
     "execution_count": 24,
     "metadata": {},
     "output_type": "execute_result"
    }
   ],
   "source": [
    "ips"
   ]
  },
  {
   "cell_type": "code",
   "execution_count": null,
   "metadata": {
    "scrolled": false
   },
   "outputs": [],
   "source": [
    "g = generate_profile_graphlet(subset_data[subset_data.srcIP == 'srcIP:349'])"
   ]
  },
  {
   "cell_type": "code",
   "execution_count": 33,
   "metadata": {},
   "outputs": [
    {
     "data": {
      "image/png": "[encoded data removed]",
      "text/plain": [
       "<Figure size 1440x864 with 1 Axes>"
      ]
     },
     "metadata": {},
     "output_type": "display_data"
    }
   ],
   "source": [
    "plot_graph(g)"
   ]
  }
 ],
 "metadata": {
  "kernelspec": {
   "display_name": "Python 3",
   "language": "python",
   "name": "python3"
  }
 },
 "nbformat": 4,
 "nbformat_minor": 2
}
