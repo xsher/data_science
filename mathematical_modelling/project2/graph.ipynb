{
  "nbformat": 4,
  "nbformat_minor": 0,
  "metadata": {
    "colab": {
      "name": "alessio_sherly",
      "version": "0.3.2",
      "provenance": [],
      "collapsed_sections": []
    },
    "kernelspec": {
      "name": "python3",
      "display_name": "Python 3"
    }
  },
  "cells": [
    {
      "metadata": {
        "id": "uvt7IOlGheB_",
        "colab_type": "text"
      },
      "cell_type": "markdown",
      "source": [
        "**Team: Sherly Sherly and Alessio Molinari**"
      ]
    },
    {
      "metadata": {
        "id": "7C37ZruGg4eu",
        "colab_type": "text"
      },
      "cell_type": "markdown",
      "source": [
        "Suppose we have 7 points $X_{i} = (x_{i}, y_{i})$ in the 2-dimensional plane:\n",
        "\n",
        "| i   |   xi  |  yi | \n",
        "|---| ----| ----|\n",
        "| 1 | 1 | 1 |\n",
        "|2 | 2| 2|\n",
        "|3 | 2 | 3|\n",
        "| 4| 7 | 9|\n",
        "| 5| 7| 7|\n",
        "|6 | 9| 8|\n",
        "|7|9|6|\n"
      ]
    },
    {
      "metadata": {
        "id": "WypZ4ulbhW8v",
        "colab_type": "text"
      },
      "cell_type": "markdown",
      "source": [
        "1. Plot the dataset. Each sample $X_{i}$ will be represented with a red diamond."
      ]
    },
    {
      "metadata": {
        "id": "lQJsDTKagTSh",
        "colab_type": "code",
        "colab": {}
      },
      "cell_type": "code",
      "source": [
        "import matplotlib.pyplot as plt\n",
        "%matplotlib inline"
      ],
      "execution_count": 0,
      "outputs": []
    },
    {
      "metadata": {
        "id": "a1wxQ4b3h8FV",
        "colab_type": "code",
        "outputId": "12310e97-3838-41fc-e601-75df5d75ab50",
        "colab": {
          "base_uri": "https://localhost:8080/",
          "height": 311
        }
      },
      "cell_type": "code",
      "source": [
        "x = [1, 2, 2, 7, 7, 9, 9]\n",
        "y = [1, 2, 3, 9, 7, 8, 6]\n",
        "\n",
        "plt.plot(x, y, \"rd\")\n",
        "plt.ylabel(\"Yi\")\n",
        "plt.xlabel(\"Xi\")\n",
        "plt.title(\"Dataset plot\")"
      ],
      "execution_count": 2,
      "outputs": [
        {
          "output_type": "execute_result",
          "data": {
            "text/plain": [
              "Text(0.5,1,'Dataset plot')"
            ]
          },
          "metadata": {
            "tags": []
          },
          "execution_count": 2
        },
        {
          "output_type": "display_data",
          "data": {
            "image/png": "[encoded data removed]",
            "text/plain": [
              "<matplotlib.figure.Figure at 0x7f7cd9b50198>"
            ]
          },
          "metadata": {
            "tags": []
          }
        }
      ]
    },
    {
      "metadata": {
        "id": "z_fUYNCHhmKp",
        "colab_type": "text"
      },
      "cell_type": "markdown",
      "source": [
        "2. Compute the distance between all the samples and store it in the distance matrix $M$ such that $M[i, j]$ is the Euclidean distance between $P_{i} = (x_{i}, y_{i})$ and $P_{j} = (x_{j}, y_{j})$"
      ]
    },
    {
      "metadata": {
        "id": "fFtCSUsajeIf",
        "colab_type": "code",
        "colab": {}
      },
      "cell_type": "code",
      "source": [
        "from sklearn.metrics import pairwise_distances\n",
        "import numpy as np\n",
        "\n",
        "coords = np.vstack((x, y)).T\n",
        "M = np.matrix(pairwise_distances(coords,  metric=\"euclidean\"))"
      ],
      "execution_count": 0,
      "outputs": []
    },
    {
      "metadata": {
        "id": "yCVCEjU9kHXR",
        "colab_type": "code",
        "outputId": "8592ebda-03fa-44de-8d9e-bd0b947fb67f",
        "colab": {
          "base_uri": "https://localhost:8080/",
          "height": 265
        }
      },
      "cell_type": "code",
      "source": [
        "print(M)"
      ],
      "execution_count": 4,
      "outputs": [
        {
          "output_type": "stream",
          "text": [
            "[[ 0.          1.41421356  2.23606798 10.          8.48528137 10.63014581\n",
            "   9.43398113]\n",
            " [ 1.41421356  0.          1.          8.60232527  7.07106781  9.21954446\n",
            "   8.06225775]\n",
            " [ 2.23606798  1.          0.          7.81024968  6.40312424  8.60232527\n",
            "   7.61577311]\n",
            " [10.          8.60232527  7.81024968  0.          2.          2.23606798\n",
            "   3.60555128]\n",
            " [ 8.48528137  7.07106781  6.40312424  2.          0.          2.23606798\n",
            "   2.23606798]\n",
            " [10.63014581  9.21954446  8.60232527  2.23606798  2.23606798  0.\n",
            "   2.        ]\n",
            " [ 9.43398113  8.06225775  7.61577311  3.60555128  2.23606798  2.\n",
            "   0.        ]]\n"
          ],
          "name": "stdout"
        }
      ]
    },
    {
      "metadata": {
        "id": "pHmzHluCib5N",
        "colab_type": "text"
      },
      "cell_type": "markdown",
      "source": [
        "3. Print the matrix with at most 2 decimal places (for instance the value)"
      ]
    },
    {
      "metadata": {
        "id": "dCFxD5XRkrW7",
        "colab_type": "code",
        "outputId": "3fa85f3d-e9dd-48f3-d726-ea939e959c8a",
        "colab": {
          "base_uri": "https://localhost:8080/",
          "height": 141
        }
      },
      "cell_type": "code",
      "source": [
        "np.around(M, 2)"
      ],
      "execution_count": 5,
      "outputs": [
        {
          "output_type": "execute_result",
          "data": {
            "text/plain": [
              "array([[ 0.  ,  1.41,  2.24, 10.  ,  8.49, 10.63,  9.43],\n",
              "       [ 1.41,  0.  ,  1.  ,  8.6 ,  7.07,  9.22,  8.06],\n",
              "       [ 2.24,  1.  ,  0.  ,  7.81,  6.4 ,  8.6 ,  7.62],\n",
              "       [10.  ,  8.6 ,  7.81,  0.  ,  2.  ,  2.24,  3.61],\n",
              "       [ 8.49,  7.07,  6.4 ,  2.  ,  0.  ,  2.24,  2.24],\n",
              "       [10.63,  9.22,  8.6 ,  2.24,  2.24,  0.  ,  2.  ],\n",
              "       [ 9.43,  8.06,  7.62,  3.61,  2.24,  2.  ,  0.  ]])"
            ]
          },
          "metadata": {
            "tags": []
          },
          "execution_count": 5
        }
      ]
    },
    {
      "metadata": {
        "id": "Pcx4kr0TlAAH",
        "colab_type": "text"
      },
      "cell_type": "markdown",
      "source": [
        "4. Compute the similarity matrix from by using the Gaussian kernel with $\\sigma = 2.1$\n",
        "\n",
        "\n",
        "$\\hspace{20mm}$ The formula for calculating the similarity is given as: $\\hspace{10mm}S_{𝑖,𝑗} = S(𝑋_{i}, 𝑋_{j}) = exp(\\frac{−||𝑋_{i} − 𝑋_{𝑗}||^{2}}{2𝜎^{2}})$"
      ]
    },
    {
      "metadata": {
        "id": "m_X9vP6Jk0mP",
        "colab_type": "code",
        "colab": {}
      },
      "cell_type": "code",
      "source": [
        "def generate_sim_matrix(euclid_mat, sigma):\n",
        "    K=-np.square(euclid_mat)\n",
        "    K /= (2*sigma**2)\n",
        "    np.exp(K, K)  \n",
        "    return K"
      ],
      "execution_count": 0,
      "outputs": []
    },
    {
      "metadata": {
        "id": "eONWhxfRlahl",
        "colab_type": "code",
        "outputId": "8a4b7217-2e34-4703-d4e1-c1d9b6b4f688",
        "colab": {
          "base_uri": "https://localhost:8080/",
          "height": 265
        }
      },
      "cell_type": "code",
      "source": [
        "S = generate_sim_matrix(M, 2.1)\n",
        "print(S)"
      ],
      "execution_count": 7,
      "outputs": [
        {
          "output_type": "stream",
          "text": [
            "[[1.00000000e+00 7.97114163e-01 5.67285018e-01 1.19131410e-05\n",
            "  2.84930489e-04 2.72841042e-06 4.14632549e-05]\n",
            " [7.97114163e-01 1.00000000e+00 8.92812502e-01 2.27122128e-04\n",
            "  3.45154183e-03 6.52562841e-05 6.30111032e-04]\n",
            " [5.67285018e-01 8.92812502e-01 1.00000000e+00 9.91690224e-04\n",
            "  9.57570539e-03 2.27122128e-04 1.39346237e-03]\n",
            " [1.19131410e-05 2.27122128e-04 9.91690224e-04 1.00000000e+00\n",
            "  6.35390989e-01 5.67285018e-01 2.29025277e-01]\n",
            " [2.84930489e-04 3.45154183e-03 9.57570539e-03 6.35390989e-01\n",
            "  1.00000000e+00 5.67285018e-01 5.67285018e-01]\n",
            " [2.72841042e-06 6.52562841e-05 2.27122128e-04 5.67285018e-01\n",
            "  5.67285018e-01 1.00000000e+00 6.35390989e-01]\n",
            " [4.14632549e-05 6.30111032e-04 1.39346237e-03 2.29025277e-01\n",
            "  5.67285018e-01 6.35390989e-01 1.00000000e+00]]\n"
          ],
          "name": "stdout"
        }
      ]
    },
    {
      "metadata": {
        "id": "hNoZhfq_lz2K",
        "colab_type": "text"
      },
      "cell_type": "markdown",
      "source": [
        "5.  Print the similarity matrix with at most decimal places."
      ]
    },
    {
      "metadata": {
        "id": "0dCPP-8NlqIq",
        "colab_type": "code",
        "outputId": "2a9f682a-7dc1-4baf-8a14-e76075eec37d",
        "colab": {
          "base_uri": "https://localhost:8080/",
          "height": 141
        }
      },
      "cell_type": "code",
      "source": [
        "print(np.around(S, 2))"
      ],
      "execution_count": 8,
      "outputs": [
        {
          "output_type": "stream",
          "text": [
            "[[1.   0.8  0.57 0.   0.   0.   0.  ]\n",
            " [0.8  1.   0.89 0.   0.   0.   0.  ]\n",
            " [0.57 0.89 1.   0.   0.01 0.   0.  ]\n",
            " [0.   0.   0.   1.   0.64 0.57 0.23]\n",
            " [0.   0.   0.01 0.64 1.   0.57 0.57]\n",
            " [0.   0.   0.   0.57 0.57 1.   0.64]\n",
            " [0.   0.   0.   0.23 0.57 0.64 1.  ]]\n"
          ],
          "name": "stdout"
        }
      ]
    },
    {
      "metadata": {
        "id": "MPHs9SkOl1E3",
        "colab_type": "text"
      },
      "cell_type": "markdown",
      "source": [
        "6. Compute the adjacency matrix $W$ of an undirected $\\epsilon$-neighbourhood graph, with $\\epsilon = 0.5$ based on the similarity matrix $S$"
      ]
    },
    {
      "metadata": {
        "id": "C8oA2T0dl1Bx",
        "colab_type": "text"
      },
      "cell_type": "markdown",
      "source": [
        "For adjacency matrix based on undirected  $\\epsilon$-neighbourhood graph, with $\\epsilon = 0.5$ ,\n",
        "\n",
        "$\\hspace{10mm}W = S_{ij}$ if $i \\neq j\\; and\\;S_{i, j} > \\epsilon$\n",
        "\n",
        "$\\hspace{10mm}W = 0$ if $i =  j$\n",
        "\n",
        "\n",
        "In this codes below, we obtained W by filtering all the values less than epsilon (0.5) and subsequently setting the diagonal to 0."
      ]
    },
    {
      "metadata": {
        "id": "DoNz-e9OluOy",
        "colab_type": "code",
        "colab": {}
      },
      "cell_type": "code",
      "source": [
        "import copy\n",
        "eps = 0.5\n",
        "\n",
        "W = copy.deepcopy(S)\n",
        "W[W < eps] = 0\n",
        "np.fill_diagonal(W, 0)"
      ],
      "execution_count": 0,
      "outputs": []
    },
    {
      "metadata": {
        "id": "zAGsIMk5qzBf",
        "colab_type": "code",
        "outputId": "efe1006a-2f8e-441a-e97b-a737607239eb",
        "colab": {
          "base_uri": "https://localhost:8080/",
          "height": 265
        }
      },
      "cell_type": "code",
      "source": [
        "print(W)"
      ],
      "execution_count": 10,
      "outputs": [
        {
          "output_type": "stream",
          "text": [
            "[[0.         0.79711416 0.56728502 0.         0.         0.\n",
            "  0.        ]\n",
            " [0.79711416 0.         0.8928125  0.         0.         0.\n",
            "  0.        ]\n",
            " [0.56728502 0.8928125  0.         0.         0.         0.\n",
            "  0.        ]\n",
            " [0.         0.         0.         0.         0.63539099 0.56728502\n",
            "  0.        ]\n",
            " [0.         0.         0.         0.63539099 0.         0.56728502\n",
            "  0.56728502]\n",
            " [0.         0.         0.         0.56728502 0.56728502 0.\n",
            "  0.63539099]\n",
            " [0.         0.         0.         0.         0.56728502 0.63539099\n",
            "  0.        ]]\n"
          ],
          "name": "stdout"
        }
      ]
    },
    {
      "metadata": {
        "id": "WbdvUiHFw6qv",
        "colab_type": "text"
      },
      "cell_type": "markdown",
      "source": [
        "7. Plot the graph associated to $W$. To draw a graph, please use the library \"networks\" on https://networkx.github.io/."
      ]
    },
    {
      "metadata": {
        "id": "d1iWllU_roR3",
        "colab_type": "code",
        "outputId": "da002827-3888-46f6-f94b-7496e87ad7dc",
        "colab": {
          "base_uri": "https://localhost:8080/",
          "height": 52
        }
      },
      "cell_type": "code",
      "source": [
        "# !pip install networkx==2.2"
      ],
      "execution_count": 11,
      "outputs": [
        {
          "output_type": "stream",
          "text": [
            "Requirement already satisfied: networkx==2.2 in /usr/local/lib/python3.6/dist-packages (2.2)\n",
            "Requirement already satisfied: decorator>=4.3.0 in /usr/local/lib/python3.6/dist-packages (from networkx==2.2) (4.3.0)\n"
          ],
          "name": "stdout"
        }
      ]
    },
    {
      "metadata": {
        "id": "LIc2kP4xr-pI",
        "colab_type": "code",
        "colab": {}
      },
      "cell_type": "code",
      "source": [
        "points = [(str(x+1),str(y+1),(W[x, y])) for x, y in np.argwhere(W != 0)]"
      ],
      "execution_count": 0,
      "outputs": []
    },
    {
      "metadata": {
        "id": "DFZT78RKsAAT",
        "colab_type": "code",
        "colab": {}
      },
      "cell_type": "code",
      "source": [
        "import networkx as nx\n",
        "G = nx.Graph()\n",
        "G.add_weighted_edges_from(points)"
      ],
      "execution_count": 0,
      "outputs": []
    },
    {
      "metadata": {
        "id": "9ilpfJALsHxO",
        "colab_type": "code",
        "outputId": "6a414dee-2381-4ff6-b524-41e85c936f7c",
        "colab": {
          "base_uri": "https://localhost:8080/",
          "height": 264
        }
      },
      "cell_type": "code",
      "source": [
        "plt.subplot(122)\n",
        "nx.draw(G, pos=nx.circular_layout(G), nodecolor='r', edge_color='b')"
      ],
      "execution_count": 14,
      "outputs": [
        {
          "output_type": "display_data",
          "data": {
            "image/png": "[encoded data removed]",
            "text/plain": [
              "<matplotlib.figure.Figure at 0x7f7cd58db7f0>"
            ]
          },
          "metadata": {
            "tags": []
          }
        }
      ]
    },
    {
      "metadata": {
        "id": "8mWtg3Tx9nLN",
        "colab_type": "text"
      },
      "cell_type": "markdown",
      "source": [
        "In the plot above, we observed that there is 2 connected components in the graph."
      ]
    },
    {
      "metadata": {
        "id": "hbKhzUf3xDxb",
        "colab_type": "text"
      },
      "cell_type": "markdown",
      "source": [
        "8. Compute the Laplacian Matrix $L$.\n",
        "\n",
        "$\\hspace{20mm}L = D - W$\n",
        "\n",
        "$\\hspace{10mm}$The weighted adjacency matrix of the graph is the matrix $W = (w_{ij})_{i,j=1,...,n}$. If\n",
        "$w_{ij} = 0$, the vertices $v_{i}$ and $v_{j}$ are not connected by an edge.\n",
        "\n",
        "\n",
        "$\\hspace{10mm}$The degree matrix $D$ is defined as the diagonal matrix with the degrees $d_{1}$, . . . , $d_{n}$\n",
        "on the diagonal.     $ d_{i} = \\sum_{j=1}^{n}w_{ij}$.\n"
      ]
    },
    {
      "metadata": {
        "id": "TgU4q3dXsJ1f",
        "colab_type": "code",
        "outputId": "cb241811-9b38-4c39-8738-adef00f6169a",
        "colab": {
          "base_uri": "https://localhost:8080/",
          "height": 265
        }
      },
      "cell_type": "code",
      "source": [
        "D = np.diag(np.squeeze(np.asarray(W.sum(axis=1))))\n",
        "print(D)"
      ],
      "execution_count": 15,
      "outputs": [
        {
          "output_type": "stream",
          "text": [
            "[[1.36439918 0.         0.         0.         0.         0.\n",
            "  0.        ]\n",
            " [0.         1.68992666 0.         0.         0.         0.\n",
            "  0.        ]\n",
            " [0.         0.         1.46009752 0.         0.         0.\n",
            "  0.        ]\n",
            " [0.         0.         0.         1.20267601 0.         0.\n",
            "  0.        ]\n",
            " [0.         0.         0.         0.         1.76996103 0.\n",
            "  0.        ]\n",
            " [0.         0.         0.         0.         0.         1.76996103\n",
            "  0.        ]\n",
            " [0.         0.         0.         0.         0.         0.\n",
            "  1.20267601]]\n"
          ],
          "name": "stdout"
        }
      ]
    },
    {
      "metadata": {
        "id": "KxGkUt4ssaeC",
        "colab_type": "code",
        "outputId": "72391bbb-a9ff-458c-86d2-0a8c5bf34876",
        "colab": {
          "base_uri": "https://localhost:8080/",
          "height": 265
        }
      },
      "cell_type": "code",
      "source": [
        "L = D - W\n",
        "print(L)"
      ],
      "execution_count": 16,
      "outputs": [
        {
          "output_type": "stream",
          "text": [
            "[[ 1.36439918 -0.79711416 -0.56728502  0.          0.          0.\n",
            "   0.        ]\n",
            " [-0.79711416  1.68992666 -0.8928125   0.          0.          0.\n",
            "   0.        ]\n",
            " [-0.56728502 -0.8928125   1.46009752  0.          0.          0.\n",
            "   0.        ]\n",
            " [ 0.          0.          0.          1.20267601 -0.63539099 -0.56728502\n",
            "   0.        ]\n",
            " [ 0.          0.          0.         -0.63539099  1.76996103 -0.56728502\n",
            "  -0.56728502]\n",
            " [ 0.          0.          0.         -0.56728502 -0.56728502  1.76996103\n",
            "  -0.63539099]\n",
            " [ 0.          0.          0.          0.         -0.56728502 -0.63539099\n",
            "   1.20267601]]\n"
          ],
          "name": "stdout"
        }
      ]
    },
    {
      "metadata": {
        "id": "xzrc_iP-xPZh",
        "colab_type": "text"
      },
      "cell_type": "markdown",
      "source": [
        "9. Compute the eigenvalues and eigenvectors of  $L$.\n",
        "\n",
        "10. Sort the eigenvalues and the eigenvectors in increasing order."
      ]
    },
    {
      "metadata": {
        "id": "EZTOt2wzsfCp",
        "colab_type": "code",
        "outputId": "88e82789-aa2b-4502-849d-02851d7ac999",
        "colab": {
          "base_uri": "https://localhost:8080/",
          "height": 427
        }
      },
      "cell_type": "code",
      "source": [
        "from scipy import sparse\n",
        "eigval, eigvec = sparse.linalg.eigsh(L, 7, sigma=0, which='LM')\n",
        "print(\"Eigenvalues:\\n\", eigval)\n",
        "print()\n",
        "print()\n",
        "print(\"Eigenvectors:\\n\", eigvec)"
      ],
      "execution_count": 24,
      "outputs": [
        {
          "output_type": "stream",
          "text": [
            "Eigenvalues:\n",
            " [8.88178420e-16 4.44089210e-15 1.19860237e+00 1.96742922e+00\n",
            " 2.34131968e+00 2.40535201e+00 2.54699414e+00]\n",
            "\n",
            "\n",
            "Eigenvectors:\n",
            " [[-0.57735027  0.          0.          0.75868232  0.          0.\n",
            "   0.30177441]\n",
            " [-0.57735027  0.          0.         -0.11799685  0.          0.\n",
            "  -0.80792537]\n",
            " [-0.57735027  0.          0.         -0.64068547  0.          0.\n",
            "   0.50615096]\n",
            " [ 0.         -0.5         0.70584528  0.         -0.0422189   0.5\n",
            "   0.        ]\n",
            " [ 0.         -0.5         0.0422189   0.          0.70584528 -0.5\n",
            "   0.        ]\n",
            " [ 0.         -0.5        -0.0422189   0.         -0.70584528 -0.5\n",
            "   0.        ]\n",
            " [ 0.         -0.5        -0.70584528  0.          0.0422189   0.5\n",
            "   0.        ]]\n"
          ],
          "name": "stdout"
        },
        {
          "output_type": "stream",
          "text": [
            "/usr/local/lib/python3.6/dist-packages/scipy/sparse/linalg/eigen/arpack/arpack.py:1556: RuntimeWarning: k >= N for N * N square matrix. Attempting to use scipy.linalg.eigh instead.\n",
            "  RuntimeWarning)\n"
          ],
          "name": "stderr"
        }
      ]
    },
    {
      "metadata": {
        "id": "rHnPiN1697bj",
        "colab_type": "text"
      },
      "cell_type": "markdown",
      "source": [
        "Laplacian matrix is a real symmetric square matrix, in this case we utilise `linalg.eigsh` to compute the eigenvalues. The values are sorted in ascending order by default."
      ]
    },
    {
      "metadata": {
        "id": "1Bb655uQyekO",
        "colab_type": "text"
      },
      "cell_type": "markdown",
      "source": [
        "11. Plot the eigenvalues in increasing order. What do you observe?"
      ]
    },
    {
      "metadata": {
        "id": "IUbH-sOZu5Dv",
        "colab_type": "code",
        "outputId": "a2b8c6e5-619f-428d-8dac-f8ff9748ed90",
        "colab": {
          "base_uri": "https://localhost:8080/",
          "height": 297
        }
      },
      "cell_type": "code",
      "source": [
        "plt.plot(eigval, \"bo\")\n",
        "plt.ylabel(\"Size of Eigenvalues\")\n",
        "plt.title(\"Plot of Eigenvalues\")"
      ],
      "execution_count": 18,
      "outputs": [
        {
          "output_type": "execute_result",
          "data": {
            "text/plain": [
              "Text(0.5,1,'Plot of Eigenvalues')"
            ]
          },
          "metadata": {
            "tags": []
          },
          "execution_count": 18
        },
        {
          "output_type": "display_data",
          "data": {
            "image/png": "[encoded data removed]",
            "text/plain": [
              "<matplotlib.figure.Figure at 0x7f7cd6928e48>"
            ]
          },
          "metadata": {
            "tags": []
          }
        }
      ]
    },
    {
      "metadata": {
        "id": "T1O9vkUK-Hgi",
        "colab_type": "text"
      },
      "cell_type": "markdown",
      "source": [
        "We observe that we have 2 zero eigenvalues. In this case, this corresponds to the fact that we have 2 connected components in our graph. "
      ]
    },
    {
      "metadata": {
        "id": "S7HUvhbnyi8C",
        "colab_type": "text"
      },
      "cell_type": "markdown",
      "source": [
        "12. Plot the first eigenvector (associated to the smallest eigenvalue) and the second eigenvector (associated to the second smallest eigenvalue) on the same graph. What do you observe?"
      ]
    },
    {
      "metadata": {
        "id": "fWDuYe0Rx0-t",
        "colab_type": "code",
        "outputId": "ff85119b-7dc5-4ec4-a42c-ab64917eb9f7",
        "colab": {
          "base_uri": "https://localhost:8080/",
          "height": 297
        }
      },
      "cell_type": "code",
      "source": [
        "plt.plot(eigvec[0], \"r-\", label=\"Eigenvector smallest\")\n",
        "plt.plot(eigvec[1], \"b-\", label=\"Eigenvector second smallest\")\n",
        "plt.legend(bbox_to_anchor=(1.05, 1), loc=2, borderaxespad=0.)\n",
        "plt.title(\"Plot of eigenvectors\")"
      ],
      "execution_count": 19,
      "outputs": [
        {
          "output_type": "execute_result",
          "data": {
            "text/plain": [
              "Text(0.5,1,'Plot of eigenvectors')"
            ]
          },
          "metadata": {
            "tags": []
          },
          "execution_count": 19
        },
        {
          "output_type": "display_data",
          "data": {
            "image/png": "[encoded data removed]",
            "text/plain": [
              "<matplotlib.figure.Figure at 0x7f7cd5857940>"
            ]
          },
          "metadata": {
            "tags": []
          }
        }
      ]
    },
    {
      "metadata": {
        "id": "Hmr2naovyrf4",
        "colab_type": "text"
      },
      "cell_type": "markdown",
      "source": [
        "13. In latex, prove theoretically what you have observed in the previous question."
      ]
    },
    {
      "metadata": {
        "id": "aDjiAVsR-RKP",
        "colab_type": "text"
      },
      "cell_type": "markdown",
      "source": [
        "For a matrix $A$ , we have eigenvectors $v$ for which:\n",
        "\n",
        "$\\hspace{10mm}Av = \\lambda v$\n",
        "\n",
        "The solution to eigenvectors:  \n",
        "$\\hspace{10mm}Av =\\lambda v \\Leftrightarrow (A-\\lambda I)v = 0$\n",
        "\n",
        "In our case, we observe that there are 2 $\\lambda = 0$, i.e. the multiplicity is 2.  \n",
        "\n",
        "According to the Rank-Nullity Theorem:  \n",
        "$\\hspace{10mm}dim(A) = rank(A) + nullity(A)$\n",
        "\n",
        "$dim(A) = 7$ and $rank(A) = 5 $ since there are 5 non-zero eigenvalues.\n",
        "\n",
        "Since the nullity is 2, we observe in the graph above that there are two components between the two eigenvectors that deviates from each other i.e. index 3 and 6."
      ]
    },
    {
      "metadata": {
        "id": "jj71SUcOyxJV",
        "colab_type": "text"
      },
      "cell_type": "markdown",
      "source": [
        "14. Propose a thresholding mechanism based on the mean value of the second eigenvector to associate a label to each sample. This label takes the value -1 if the sample is assigned to the first cluster and +1 if ithe sample is assigned to the second cluster."
      ]
    },
    {
      "metadata": {
        "id": "zESurK_pHY_X",
        "colab_type": "text"
      },
      "cell_type": "markdown",
      "source": [
        "We propose a thresholding by centering the values of the eigenvectors. \n",
        "\n",
        "\n",
        "We adjusted the eigenvectors by centering it i.e. value - mean and split the clusters according to whether it is positive or negative. "
      ]
    },
    {
      "metadata": {
        "id": "z9Hm6L1cFNtZ",
        "colab_type": "code",
        "colab": {
          "base_uri": "https://localhost:8080/",
          "height": 52
        },
        "outputId": "cb8a807a-48c3-4fda-aa28-24482d8d412d"
      },
      "cell_type": "code",
      "source": [
        "mean_adjusted_eigvec = eigvec[1] - np.mean(eigvec[1])\n",
        "mean_adjusted_eigvec"
      ],
      "execution_count": 20,
      "outputs": [
        {
          "output_type": "execute_result",
          "data": {
            "text/plain": [
              "array([-0.36259706,  0.21475321,  0.21475321,  0.09675636,  0.21475321,\n",
              "        0.21475321, -0.59317216])"
            ]
          },
          "metadata": {
            "tags": []
          },
          "execution_count": 20
        }
      ]
    },
    {
      "metadata": {
        "id": "H8kfNLQ_y8Pl",
        "colab_type": "text"
      },
      "cell_type": "markdown",
      "source": [
        "15. Draw the clustering. The samples of the first cluster are drawn with blue circles and the\n",
        "samples of the second cluster are drawn with red circles."
      ]
    },
    {
      "metadata": {
        "id": "VaWmolPXGVH_",
        "colab_type": "code",
        "colab": {}
      },
      "cell_type": "code",
      "source": [
        "pos_idx = np.where(mean_adjusted_eigvec > 0)\n",
        "neg_idx = np.where(mean_adjusted_eigvec <= 0)"
      ],
      "execution_count": 0,
      "outputs": []
    },
    {
      "metadata": {
        "id": "3RnkF6QvHoYr",
        "colab_type": "code",
        "colab": {}
      },
      "cell_type": "code",
      "source": [
        "x_pos = [x[i] for i in pos_idx[0]]\n",
        "y_pos = [y[i] for i in pos_idx[0]]\n",
        "\n",
        "x_neg = [x[i] for i in neg_idx[0]]\n",
        "y_neg = [y[i] for i in neg_idx[0]]"
      ],
      "execution_count": 0,
      "outputs": []
    },
    {
      "metadata": {
        "id": "-2e_LYJQIQhz",
        "colab_type": "code",
        "colab": {
          "base_uri": "https://localhost:8080/",
          "height": 297
        },
        "outputId": "960ee1be-10ca-4c46-8946-431a9465a254"
      },
      "cell_type": "code",
      "source": [
        "plt.plot(x_pos, y_pos, \"bo\", label=\"cluster +1\")\n",
        "plt.plot(x_neg, y_neg, \"ro\", label=\"cluster -1\")\n",
        "plt.legend(bbox_to_anchor=(1.05, 1), loc=2, borderaxespad=0.)\n",
        "plt.title(\"Plot of clusters\")"
      ],
      "execution_count": 23,
      "outputs": [
        {
          "output_type": "execute_result",
          "data": {
            "text/plain": [
              "Text(0.5,1,'Plot of clusters')"
            ]
          },
          "metadata": {
            "tags": []
          },
          "execution_count": 23
        },
        {
          "output_type": "display_data",
          "data": {
            "image/png": "[encoded data removed]",
            "text/plain": [
              "<matplotlib.figure.Figure at 0x7f7cd2f25748>"
            ]
          },
          "metadata": {
            "tags": []
          }
        }
      ]
    },
    {
      "metadata": {
        "id": "KBfLlO2SIyRJ",
        "colab_type": "text"
      },
      "cell_type": "markdown",
      "source": [
        "By Spectral Clustering, we obtain the two clusters based on the eigenvalues as shown above."
      ]
    }
  ]
}